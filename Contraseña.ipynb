{
  "nbformat": 4,
  "nbformat_minor": 0,
  "metadata": {
    "colab": {
      "provenance": [],
      "authorship_tag": "ABX9TyO3EwG95Engm1HMx/ygTouD",
      "include_colab_link": true
    },
    "kernelspec": {
      "name": "python3",
      "display_name": "Python 3"
    },
    "language_info": {
      "name": "python"
    }
  },
  "cells": [
    {
      "cell_type": "markdown",
      "metadata": {
        "id": "view-in-github",
        "colab_type": "text"
      },
      "source": [
        "<a href=\"https://colab.research.google.com/github/Nanomatos/phyton-ejercicios/blob/main/Contrase%C3%B1a.ipynb\" target=\"_parent\"><img src=\"https://colab.research.google.com/assets/colab-badge.svg\" alt=\"Open In Colab\"/></a>"
      ]
    },
    {
      "cell_type": "markdown",
      "source": [
        "\"\"\"Escribir una contreseña inventada sin cifrar y pedir al usuario que intente acceder al sistema si la contraseña es valida\n",
        "Salida\n",
        "Introduce la contraseña:bucle\n",
        "incorrecto.\n",
        "Intenta de nuevo incorrecta\n",
        "Introduce la contrasela: python\n",
        "Acceso concedido\n",
        "\"\"\""
      ],
      "metadata": {
        "id": "wUbPgRJ3zpY-"
      }
    },
    {
      "cell_type": "code",
      "execution_count": null,
      "metadata": {
        "colab": {
          "base_uri": "https://localhost:8080/"
        },
        "id": "lH6SXFQdzGq2",
        "outputId": "786e840b-39f4-443f-8251-af3ec4626630"
      },
      "outputs": [
        {
          "output_type": "stream",
          "name": "stdout",
          "text": [
            "Introduce la contraseña correcta: python\n",
            "Acceso concedido\n"
          ]
        }
      ],
      "source": [
        "contraseña_correcta = \"python\"\n",
        "contraseña = \"\"\n",
        "\"\"\"while True:\n",
        "    contraseña_ingresada = input(\"Introduce la contraseña: \")\n",
        "    if contraseña_ingresada == contraseña_correcta:\n",
        "        print(\"Acceso concedido\")\n",
        "        break\n",
        "    else:\n",
        "        print(\"incorrecto. Intenta de nuevo incorrecta\")\n",
        "\"\"\"\n",
        "\n",
        "\n",
        "while contraseña != contraseña_correcta:\n",
        "    contraseña = input(\"Introduce la contraseña correcta: \")\n",
        "print(\"Acceso concedido\")"
      ]
    }
  ]
}